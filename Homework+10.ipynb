{
 "cells": [
  {
   "cell_type": "code",
   "execution_count": 1,
   "metadata": {
    "collapsed": true
   },
   "outputs": [],
   "source": [
    "import numpy as np\n",
    "import scipy.special as sp\n",
    "import matplotlib.pyplot as plt\n",
    "from scipy.linalg import eig_banded\n",
    "from scipy.special import erf\n",
    "from scipy.fftpack import ifft\n",
    "%matplotlib inline"
   ]
  },
  {
   "cell_type": "code",
   "execution_count": 2,
   "metadata": {
    "collapsed": true
   },
   "outputs": [],
   "source": [
    "def gauss_legendre(n):\n",
    "    # Computes the Gaussian Quadrature nodes and weights\n",
    "    # Input:  n = number of nodes and weights requested\n",
    "    # Output: x nodes and w weights\n",
    "    \n",
    "    k = np.arange(1,n)\n",
    "    a_band = np.zeros((2,n))\n",
    "    a_band[1,:n-1] = k/np.sqrt(4*k*k-1) \n",
    "    x,V = eig_banded(a_band,lower=True) \n",
    "    w = 2*np.real(V[0,:]**2) \n",
    "    return x, w\n",
    "\n",
    "def cheb(n1):\n",
    "    # Computes the Clenshaw Curtis (Chebyshev) nodes and weights\n",
    "    # Input:  n1 = number of nodes and weights requested\n",
    "    # Output: x nodes and w weights\n",
    "    # Note that these nodes include the endpoints\n",
    "    \n",
    "    if n1 == 1:\n",
    "        x = 0\n",
    "        w = 2\n",
    "    else:\n",
    "        n = n1 - 1\n",
    "        C = np.zeros((n1,2))\n",
    "        k = 2*(1+np.arange(np.floor(n/2)))\n",
    "        # Compute weights --> integral of Tn(x)\n",
    "        C[::2,0] = 2/np.hstack((1, 1-k*k))\n",
    "        C[1,1] = -n\n",
    "        V = np.vstack((C,np.flipud(C[1:n,:])))\n",
    "        # Real part of inverse FFT ~ Cosine transform\n",
    "        F = np.real(ifft(V, n=None, axis=0))\n",
    "        x = F[:n1,1]\n",
    "        #x = -np.cos(np.linspace(0,np.pi,n1))\n",
    "        w = np.hstack((F[0,0],2*F[1:n,0],F[n,0]))\n",
    "    return x, w\n",
    "\n",
    "def transint(a,b,x,w):\n",
    "    return (a+b+x*(b-a))/2, (b-a)*w/2\n",
    "\n",
    "\n",
    "\n",
    "def gauss_quad(func,a,b,n):\n",
    "    x, w = gauss_legendre(n)\n",
    "    x, w = transint(a,b,x,w)\n",
    "    return w.dot(func(x))\n",
    "\n",
    "\n",
    "def clen_quad(func, a, b, n):\n",
    "    x, w = cheb(n)\n",
    "    x, w = transint(a,b,x,w)\n",
    "    return w.dot(func(x))\n",
    "\n",
    "\n",
    "def f(x):\n",
    "    return x**20"
   ]
  },
  {
   "cell_type": "code",
   "execution_count": 3,
   "metadata": {},
   "outputs": [
    {
     "data": {
      "image/png": "[encoded data removed]",
      "text/plain": [
       "<matplotlib.figure.Figure at 0x1b0feaf27f0>"
      ]
     },
     "metadata": {},
     "output_type": "display_data"
    }
   ],
   "source": [
    "# ******************************************************************************\n",
    "test = 2/21 #<-- Change the test solution each time you change the exponent above\n",
    "# ******************************************************************************\n",
    "errg = [] # Gaussian Quadrature error array\n",
    "errc = [] # Clenshaw-Curtis Quadrature error array\n",
    "a,b = -1, 1;\n",
    "nvec = np.arange(4,25,1) # Requires odd number of nodes (even number of subintervals)\n",
    "# Construct a vector of errors and display them for the increasing grid-sizes\n",
    "for n in nvec:\n",
    "    #xg, wg = gauss_legendre(n)\n",
    "    #xc, wc = cheb(n)\n",
    "    Igauss = gauss_quad(f, a, b, n)\n",
    "    Iclen = clen_quad(f, a, b, n)\n",
    "    errg = np.append(errg,abs(Igauss-test))#+np.finfo(float).eps\n",
    "    errc = np.append(errc,abs(Iclen-test))#+np.finfo(float).eps\n",
    "plt.semilogy(nvec,errg,'go-',nvec,errc,'mo-')\n",
    "plt.legend(['Gaussian Quadrature','Clenshaw-Curtis'],loc='center left',bbox_to_anchor=(0.9,0.4)) \n",
    "plt.xlabel('nodes')\n",
    "plt.ylabel('log(err)')\n",
    "plt.xticks(nvec);\n",
    "\n",
    "\n"
   ]
  },
  {
   "cell_type": "code",
   "execution_count": 4,
   "metadata": {
    "collapsed": true
   },
   "outputs": [],
   "source": [
    "# Part 2\n",
    "def f(x):\n",
    "    return np.e**(np.sin(np.pi*x))"
   ]
  },
  {
   "cell_type": "code",
   "execution_count": 5,
   "metadata": {
    "collapsed": true
   },
   "outputs": [],
   "source": [
    "# Trap func\n",
    "def Trapezoidal(fx, a, b, n):\n",
    "    x = np.linspace(a, b, n)\n",
    "    y = f(x)\n",
    "    h = (b-a)/(n-1)\n",
    "    w = np.ones(n)\n",
    "    w[0], w[-1] = 0.5, 0.5\n",
    "    I = h*np.dot(w,y)\n",
    "    return I\n",
    "\n",
    "#Simp func\n",
    "def Simpsons(fx, a, b, n):\n",
    "    x = np.linspace(a, b, n)\n",
    "    y = f(x)\n",
    "    h = (b-a)/(n-1)\n",
    "    w = np.ones(n)\n",
    "    w[2:-2:2] = 2\n",
    "    w[1:-1:2] = 4\n",
    "    I = h/3*np.dot(w,y)\n",
    "    return I\n",
    "\n",
    "def g(x):\n",
    "    return np.exp(np.cos(np.pi*x))"
   ]
  },
  {
   "cell_type": "code",
   "execution_count": 6,
   "metadata": {},
   "outputs": [
    {
     "name": "stdout",
     "output_type": "stream",
     "text": [
      "Absolute Error of Trapezoidal:          0.702062589258\n",
      "Absolute Error of Simpsons:             0.710229428949\n",
      "Absolute Error of Gaussian Quadrature:  0.710243199303\n",
      "Absolute Error of Clenshaw Quadrature:  0.710247642921\n"
     ]
    }
   ],
   "source": [
    "actualVal = sp.iv(0,1)\n",
    "trapError = np.fabs(Trapezoidal(f, 0, 1, 9) - actualVal)\n",
    "simpError = np.fabs(Simpsons(f, 0, 1, 9) - actualVal)\n",
    "gaussError = np.fabs(gauss_quad(f, 0, 1, 9) - actualVal)\n",
    "clenError = np.fabs(clen_quad(f, 0, 1, 9) - actualVal)\n",
    "print(\"Absolute Error of Trapezoidal:         \",trapError)\n",
    "print(\"Absolute Error of Simpsons:            \",simpError)\n",
    "print(\"Absolute Error of Gaussian Quadrature: \",gaussError)\n",
    "print(\"Absolute Error of Clenshaw Quadrature: \",clenError)"
   ]
  },
  {
   "cell_type": "code",
   "execution_count": 7,
   "metadata": {},
   "outputs": [
    {
     "data": {
      "image/png": "[encoded data removed]",
      "text/plain": [
       "<matplotlib.figure.Figure at 0x1b0ff1ddc50>"
      ]
     },
     "metadata": {},
     "output_type": "display_data"
    }
   ],
   "source": [
    "# ******************************************************************************\n",
    "test = sp.iv(0,1) #<-- Change the test solution each time you change the exponent above\n",
    "# ******************************************************************************\n",
    "errt = [] # Trapezoidal rule error array\n",
    "errs = [] # Simpson's rule error array\n",
    "errg = [] # Gaussian Quadrature error array\n",
    "errc = [] # Clenshaw-Curtis Quadrature error array\n",
    "a,b = 0, 1;\n",
    "nvec = np.arange(5,24,2) # Requires odd number of nodes (even number of subintervals)\n",
    "# Construct a vector of errors and display them for the increasing grid-sizes\n",
    "for n in nvec:\n",
    "    Itrap = Trapezoidal(f, a, b, n)\n",
    "    Isimp = Simpsons(f, a, b, n)\n",
    "    Igauss = gauss_quad(f, a, b, n)\n",
    "    Iclen = clen_quad(f, a, b, n)\n",
    "    errt = np.append(errt,abs(Itrap-test))+np.finfo(float).eps\n",
    "    errs = np.append(errs,abs(Isimp-test))+np.finfo(float).eps\n",
    "    errg = np.append(errg,abs(Igauss-test))+np.finfo(float).eps\n",
    "    errc = np.append(errc,abs(Iclen-test))+np.finfo(float).eps\n",
    "plt.semilogy(nvec,errt,'ro-',nvec,errs,'bo-',nvec,errg,'go-',nvec,errc,'mo-')\n",
    "plt.legend(['Trapezoidal','Simpsons','Gaussian Quadrature','Clenshaw-Curtis'],loc='center left',bbox_to_anchor=(0.9,0.4)) \n",
    "plt.xlabel('nodes')\n",
    "plt.ylabel('log(err)');"
   ]
  },
  {
   "cell_type": "code",
   "execution_count": null,
   "metadata": {
    "collapsed": true
   },
   "outputs": [],
   "source": []
  },
  {
   "cell_type": "code",
   "execution_count": null,
   "metadata": {
    "collapsed": true
   },
   "outputs": [],
   "source": []
  },
  {
   "cell_type": "code",
   "execution_count": null,
   "metadata": {
    "collapsed": true
   },
   "outputs": [],
   "source": []
  }
 ],
 "metadata": {
  "kernelspec": {
   "display_name": "Python 3",
   "language": "python",
   "name": "python3"
  },
  "language_info": {
   "codemirror_mode": {
    "name": "ipython",
    "version": 3
   },
   "file_extension": ".py",
   "mimetype": "text/x-python",
   "name": "python",
   "nbconvert_exporter": "python",
   "pygments_lexer": "ipython3",
   "version": "3.6.3"
  }
 },
 "nbformat": 4,
 "nbformat_minor": 2
}
